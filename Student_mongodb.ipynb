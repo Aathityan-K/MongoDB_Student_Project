{
 "cells": [
  {
   "cell_type": "markdown",
   "id": "c5493ccb",
   "metadata": {},
   "source": [
    "# Student Database (MongoDB)"
   ]
  },
  {
   "cell_type": "code",
   "execution_count": 7,
   "id": "cb9678e1",
   "metadata": {},
   "outputs": [],
   "source": [
    "import pymongo"
   ]
  },
  {
   "cell_type": "code",
   "execution_count": 8,
   "id": "33fadf64",
   "metadata": {},
   "outputs": [],
   "source": [
    "client = pymongo.MongoClient(\"mongodb://localhost:27017/\")"
   ]
  },
  {
   "cell_type": "code",
   "execution_count": 9,
   "id": "e46c7959",
   "metadata": {},
   "outputs": [],
   "source": [
    "db = client.get_database('Project')"
   ]
  },
  {
   "cell_type": "code",
   "execution_count": 10,
   "id": "c7061afc",
   "metadata": {},
   "outputs": [],
   "source": [
    "records = db.Students"
   ]
  },
  {
   "cell_type": "code",
   "execution_count": 19,
   "id": "cf1cf022",
   "metadata": {},
   "outputs": [
    {
     "name": "stdout",
     "output_type": "stream",
     "text": [
      "{'_id': 32, 'name': 'Gwen Honig', 'scores': [{'score': 87.14345376886205, 'type': 'exam'}, {'score': 99.45824441135635, 'type': 'quiz'}, {'score': 76.66460454219344, 'type': 'homework'}]}\n"
     ]
    }
   ],
   "source": [
    "#to check connection\n",
    "x = records.find_one(32)\n",
    "print(x)"
   ]
  },
  {
   "cell_type": "markdown",
   "id": "4d621188",
   "metadata": {},
   "source": [
    "## 1)      Find the student name who scored maximum scores in all (exam, quiz and homework)?"
   ]
  },
  {
   "cell_type": "code",
   "execution_count": 25,
   "id": "16b81e4e",
   "metadata": {},
   "outputs": [
    {
     "name": "stdout",
     "output_type": "stream",
     "text": [
      "{'_id': 13, 'name': 'Jessika Dagenais', 'max': 275.94947751518237}\n"
     ]
    }
   ],
   "source": [
    "#$unwind operator is used to deconstruct the documents in MongoDB.\n",
    "#If the operand resolves to a non-empty array, $first returns the first element in the array.\n",
    "#a group specification must include an _id, so \"_id\" should be added.\n",
    "\n",
    "for i in records.aggregate([{\"$unwind\":\"$scores\"},{\"$group\":{\"_id\":\"$_id\", \"name\":{\"$first\":\"$name\"}, \"max\":{\"$sum\":\"$scores.score\"},}},{\"$sort\":{\"max\":-1}},{\"$limit\":1}]):\n",
    "    print(i)"
   ]
  },
  {
   "cell_type": "markdown",
   "id": "6228963d",
   "metadata": {},
   "source": [
    "## 2)      Find students who scored below average in the exam and pass mark is 40%?"
   ]
  },
  {
   "cell_type": "code",
   "execution_count": 26,
   "id": "74d2fe0b",
   "metadata": {},
   "outputs": [
    {
     "name": "stdout",
     "output_type": "stream",
     "text": [
      "{'_id': 5, 'name': 'Wilburn Spiess', 'scores': {'score': 44.87186330181261, 'type': 'exam'}}\n",
      "{'_id': 10, 'name': 'Denisha Cast', 'scores': {'score': 45.61876862259409, 'type': 'exam'}}\n",
      "{'_id': 12, 'name': 'Quincy Danaher', 'scores': {'score': 54.29841278520669, 'type': 'exam'}}\n",
      "{'_id': 19, 'name': 'Gisela Levin', 'scores': {'score': 44.51211101958831, 'type': 'exam'}}\n",
      "{'_id': 20, 'name': 'Tressa Schwing', 'scores': {'score': 42.17439799514388, 'type': 'exam'}}\n",
      "{'_id': 21, 'name': 'Rosana Vales', 'scores': {'score': 46.2289476258328, 'type': 'exam'}}\n",
      "{'_id': 23, 'name': 'Tamika Schildgen', 'scores': {'score': 45.65432764125526, 'type': 'exam'}}\n",
      "{'_id': 29, 'name': 'Gwyneth Garling', 'scores': {'score': 48.36644963899371, 'type': 'exam'}}\n",
      "{'_id': 42, 'name': 'Kayce Kenyon', 'scores': {'score': 44.62441703708117, 'type': 'exam'}}\n",
      "{'_id': 45, 'name': 'Terica Brugger', 'scores': {'score': 42.1011312120801, 'type': 'exam'}}\n",
      "{'_id': 57, 'name': 'Chad Rahe', 'scores': {'score': 40.84572027366789, 'type': 'exam'}}\n",
      "{'_id': 61, 'name': 'Grady Zemke', 'scores': {'score': 51.91561300267121, 'type': 'exam'}}\n",
      "{'_id': 62, 'name': 'Vina Matsunaga', 'scores': {'score': 51.38190070034149, 'type': 'exam'}}\n",
      "{'_id': 68, 'name': 'Jenise Mcguffie', 'scores': {'score': 40.15210496060384, 'type': 'exam'}}\n",
      "{'_id': 76, 'name': 'Adrien Renda', 'scores': {'score': 57.24794864351232, 'type': 'exam'}}\n",
      "{'_id': 77, 'name': 'Efrain Claw', 'scores': {'score': 55.41266579085205, 'type': 'exam'}}\n",
      "{'_id': 89, 'name': 'Cassi Heal', 'scores': {'score': 43.04310994985133, 'type': 'exam'}}\n",
      "{'_id': 100, 'name': 'Demarcus Audette', 'scores': {'score': 47.42608580155614, 'type': 'exam'}}\n",
      "{'_id': 102, 'name': 'Mercedez Garduno', 'scores': {'score': 49.52877007656483, 'type': 'exam'}}\n",
      "{'_id': 109, 'name': 'Flora Duell', 'scores': {'score': 40.68238966626067, 'type': 'exam'}}\n",
      "{'_id': 119, 'name': 'Wilburn Spiess', 'scores': {'score': 52.36963021569788, 'type': 'exam'}}\n",
      "{'_id': 126, 'name': 'Quincy Danaher', 'scores': {'score': 40.53136904234401, 'type': 'exam'}}\n",
      "{'_id': 128, 'name': 'Alix Sherrill', 'scores': {'score': 43.67436243299881, 'type': 'exam'}}\n",
      "{'_id': 130, 'name': 'Dodie Staller', 'scores': {'score': 52.16051124848157, 'type': 'exam'}}\n",
      "{'_id': 134, 'name': 'Tressa Schwing', 'scores': {'score': 54.53947018434061, 'type': 'exam'}}\n",
      "{'_id': 142, 'name': 'Laureen Salomone', 'scores': {'score': 42.54322973844196, 'type': 'exam'}}\n",
      "{'_id': 143, 'name': 'Gwyneth Garling', 'scores': {'score': 44.29553481758053, 'type': 'exam'}}\n",
      "{'_id': 152, 'name': 'Richelle Siemers', 'scores': {'score': 52.0158789874646, 'type': 'exam'}}\n",
      "{'_id': 155, 'name': 'Aleida Elsass', 'scores': {'score': 42.89558347656537, 'type': 'exam'}}\n",
      "{'_id': 156, 'name': 'Kayce Kenyon', 'scores': {'score': 54.00824880446614, 'type': 'exam'}}\n",
      "{'_id': 164, 'name': 'Alica Pasley', 'scores': {'score': 41.3852820348269, 'type': 'exam'}}\n",
      "{'_id': 167, 'name': 'Malisa Jeanes', 'scores': {'score': 40.68676040665008, 'type': 'exam'}}\n",
      "{'_id': 169, 'name': 'Tresa Sinha', 'scores': {'score': 52.22632020277269, 'type': 'exam'}}\n",
      "{'_id': 173, 'name': 'Vinnie Auerbach', 'scores': {'score': 57.26312067710243, 'type': 'exam'}}\n",
      "{'_id': 184, 'name': 'Harriett Velarde', 'scores': {'score': 41.47988283148075, 'type': 'exam'}}\n",
      "{'_id': 185, 'name': 'Kam Senters', 'scores': {'score': 49.8822537074033, 'type': 'exam'}}\n",
      "{'_id': 193, 'name': 'Mariela Sherer', 'scores': {'score': 47.67196715489599, 'type': 'exam'}}\n",
      "{'_id': 195, 'name': 'Linnie Weigel', 'scores': {'score': 52.44578368517977, 'type': 'exam'}}\n",
      "{'_id': 196, 'name': 'Santiago Dollins', 'scores': {'score': 52.04052571137036, 'type': 'exam'}}\n"
     ]
    }
   ],
   "source": [
    "#$match operator filters the documents to pass only those documents that match the specified condition (s) to the next pipeline stage.\n",
    "for x in records.aggregate([{\"$unwind\":\"$scores\"},{\"$match\":{\"scores.type\":\"exam\", \"scores.score\":{\"$gt\":40, \"$lt\":60}}}]):\n",
    "    print(x)"
   ]
  },
  {
   "cell_type": "markdown",
   "id": "f7bc1dfd",
   "metadata": {},
   "source": [
    "## 3)      Find students who scored below pass mark and assigned them as fail, and above pass mark as pass in all the categories."
   ]
  },
  {
   "cell_type": "code",
   "execution_count": 30,
   "id": "edf100aa",
   "metadata": {},
   "outputs": [
    {
     "name": "stdout",
     "output_type": "stream",
     "text": [
      "{'_id': 0, 'name': 'aimee Zank', 'result': 'fail'}\n",
      "{'_id': 1, 'name': 'Aurelia Menendez', 'result': 'pass'}\n",
      "{'_id': 2, 'name': 'Corliss Zuk', 'result': 'fail'}\n",
      "{'_id': 3, 'name': 'Bao Ziglar', 'result': 'fail'}\n",
      "{'_id': 4, 'name': 'Zachary Langlais', 'result': 'fail'}\n",
      "{'_id': 5, 'name': 'Wilburn Spiess', 'result': 'fail'}\n",
      "{'_id': 6, 'name': 'Jenette Flanders', 'result': 'fail'}\n",
      "{'_id': 7, 'name': 'Salena Olmos', 'result': 'pass'}\n",
      "{'_id': 8, 'name': 'Daphne Zheng', 'result': 'fail'}\n",
      "{'_id': 9, 'name': 'Sanda Ryba', 'result': 'fail'}\n",
      "{'_id': 10, 'name': 'Denisha Cast', 'result': 'pass'}\n",
      "{'_id': 11, 'name': 'Marcus Blohm', 'result': 'pass'}\n",
      "{'_id': 12, 'name': 'Quincy Danaher', 'result': 'pass'}\n",
      "{'_id': 13, 'name': 'Jessika Dagenais', 'result': 'pass'}\n",
      "{'_id': 14, 'name': 'Alix Sherrill', 'result': 'fail'}\n",
      "{'_id': 15, 'name': 'Tambra Mercure', 'result': 'fail'}\n",
      "{'_id': 16, 'name': 'Dodie Staller', 'result': 'fail'}\n",
      "{'_id': 17, 'name': 'Fletcher Mcconnell', 'result': 'fail'}\n",
      "{'_id': 18, 'name': 'Verdell Sowinski', 'result': 'pass'}\n",
      "{'_id': 19, 'name': 'Gisela Levin', 'result': 'fail'}\n",
      "{'_id': 20, 'name': 'Tressa Schwing', 'result': 'pass'}\n",
      "{'_id': 21, 'name': 'Rosana Vales', 'result': 'fail'}\n",
      "{'_id': 22, 'name': 'Margart Vitello', 'result': 'fail'}\n",
      "{'_id': 23, 'name': 'Tamika Schildgen', 'result': 'pass'}\n",
      "{'_id': 24, 'name': 'Jesusa Rickenbacker', 'result': 'fail'}\n",
      "{'_id': 25, 'name': 'Rudolph Domingo', 'result': 'fail'}\n",
      "{'_id': 26, 'name': 'Jonie Raby', 'result': 'fail'}\n",
      "{'_id': 27, 'name': 'Edgar Sarkis', 'result': 'fail'}\n",
      "{'_id': 28, 'name': 'Laureen Salomone', 'result': 'fail'}\n",
      "{'_id': 29, 'name': 'Gwyneth Garling', 'result': 'fail'}\n",
      "{'_id': 30, 'name': 'Kaila Deibler', 'result': 'fail'}\n",
      "{'_id': 31, 'name': 'Tandra Meadows', 'result': 'fail'}\n",
      "{'_id': 32, 'name': 'Gwen Honig', 'result': 'pass'}\n",
      "{'_id': 33, 'name': 'Sadie Jernigan', 'result': 'fail'}\n",
      "{'_id': 34, 'name': 'Carli Belvins', 'result': 'fail'}\n",
      "{'_id': 35, 'name': 'Synthia Labelle', 'result': 'fail'}\n",
      "{'_id': 36, 'name': 'Eugene Magdaleno', 'result': 'pass'}\n",
      "{'_id': 37, 'name': 'Meagan Oakes', 'result': 'fail'}\n",
      "{'_id': 38, 'name': 'Richelle Siemers', 'result': 'fail'}\n",
      "{'_id': 39, 'name': 'Mariette Batdorf', 'result': 'fail'}\n",
      "{'_id': 40, 'name': 'Rachell Aman', 'result': 'fail'}\n",
      "{'_id': 41, 'name': 'Aleida Elsass', 'result': 'fail'}\n",
      "{'_id': 42, 'name': 'Kayce Kenyon', 'result': 'fail'}\n",
      "{'_id': 43, 'name': 'Ernestine Macfarland', 'result': 'fail'}\n",
      "{'_id': 44, 'name': 'Houston Valenti', 'result': 'fail'}\n",
      "{'_id': 45, 'name': 'Terica Brugger', 'result': 'fail'}\n",
      "{'_id': 46, 'name': 'Lady Lefevers', 'result': 'fail'}\n",
      "{'_id': 47, 'name': 'Kurtis Jiles', 'result': 'fail'}\n",
      "{'_id': 48, 'name': 'Barbera Lippman', 'result': 'fail'}\n",
      "{'_id': 49, 'name': 'Dinah Sauve', 'result': 'fail'}\n",
      "{'_id': 50, 'name': 'Alica Pasley', 'result': 'fail'}\n",
      "{'_id': 51, 'name': 'Elizabet Kleine', 'result': 'fail'}\n",
      "{'_id': 52, 'name': 'Tawana Oberg', 'result': 'pass'}\n",
      "{'_id': 53, 'name': 'Malisa Jeanes', 'result': 'fail'}\n",
      "{'_id': 54, 'name': 'Joel Rueter', 'result': 'pass'}\n",
      "{'_id': 55, 'name': 'Tresa Sinha', 'result': 'pass'}\n",
      "{'_id': 56, 'name': 'Danika Loeffler', 'result': 'fail'}\n",
      "{'_id': 57, 'name': 'Chad Rahe', 'result': 'fail'}\n",
      "{'_id': 58, 'name': 'Joaquina Arbuckle', 'result': 'fail'}\n",
      "{'_id': 59, 'name': 'Vinnie Auerbach', 'result': 'fail'}\n",
      "{'_id': 60, 'name': 'Dusti Lemmond', 'result': 'fail'}\n",
      "{'_id': 61, 'name': 'Grady Zemke', 'result': 'pass'}\n",
      "{'_id': 62, 'name': 'Vina Matsunaga', 'result': 'fail'}\n",
      "{'_id': 63, 'name': 'Rubie Winton', 'result': 'fail'}\n",
      "{'_id': 64, 'name': 'Whitley Fears', 'result': 'pass'}\n",
      "{'_id': 65, 'name': 'Gena Riccio', 'result': 'pass'}\n",
      "{'_id': 66, 'name': 'Kim Xu', 'result': 'fail'}\n",
      "{'_id': 67, 'name': 'Merissa Mann', 'result': 'pass'}\n",
      "{'_id': 68, 'name': 'Jenise Mcguffie', 'result': 'pass'}\n",
      "{'_id': 69, 'name': 'Cody Strouth', 'result': 'fail'}\n",
      "{'_id': 70, 'name': 'Harriett Velarde', 'result': 'fail'}\n",
      "{'_id': 71, 'name': 'Kam Senters', 'result': 'fail'}\n",
      "{'_id': 72, 'name': 'Leonida Lafond', 'result': 'fail'}\n",
      "{'_id': 73, 'name': 'Devorah Smartt', 'result': 'fail'}\n",
      "{'_id': 74, 'name': 'Leola Lundin', 'result': 'fail'}\n",
      "{'_id': 75, 'name': 'Tonia Surace', 'result': 'pass'}\n",
      "{'_id': 76, 'name': 'Adrien Renda', 'result': 'fail'}\n",
      "{'_id': 77, 'name': 'Efrain Claw', 'result': 'fail'}\n",
      "{'_id': 78, 'name': 'Len Treiber', 'result': 'fail'}\n",
      "{'_id': 79, 'name': 'Mariela Sherer', 'result': 'pass'}\n",
      "{'_id': 80, 'name': 'Echo Pippins', 'result': 'fail'}\n",
      "{'_id': 81, 'name': 'Linnie Weigel', 'result': 'fail'}\n",
      "{'_id': 82, 'name': 'Santiago Dollins', 'result': 'fail'}\n",
      "{'_id': 83, 'name': 'Tonisha Games', 'result': 'fail'}\n",
      "{'_id': 84, 'name': 'Timothy Harrod', 'result': 'pass'}\n",
      "{'_id': 85, 'name': 'Rae Kohout', 'result': 'pass'}\n",
      "{'_id': 86, 'name': 'Brain Lachapelle', 'result': 'fail'}\n",
      "{'_id': 87, 'name': 'Toshiko Sabella', 'result': 'fail'}\n",
      "{'_id': 88, 'name': 'Keesha Papadopoulos', 'result': 'fail'}\n",
      "{'_id': 89, 'name': 'Cassi Heal', 'result': 'fail'}\n",
      "{'_id': 90, 'name': 'Osvaldo Hirt', 'result': 'pass'}\n",
      "{'_id': 91, 'name': 'Ty Barbieri', 'result': 'fail'}\n",
      "{'_id': 92, 'name': 'Ta Sikorski', 'result': 'fail'}\n",
      "{'_id': 93, 'name': 'Lucinda Vanderburg', 'result': 'fail'}\n",
      "{'_id': 94, 'name': 'Darby Wass', 'result': 'fail'}\n",
      "{'_id': 95, 'name': 'Omar Bowdoin', 'result': 'fail'}\n",
      "{'_id': 96, 'name': 'Milan Mcgavock', 'result': 'fail'}\n",
      "{'_id': 97, 'name': 'Maren Scheider', 'result': 'pass'}\n",
      "{'_id': 98, 'name': 'Carli Ector', 'result': 'pass'}\n",
      "{'_id': 99, 'name': 'Jaclyn Morado', 'result': 'pass'}\n",
      "{'_id': 100, 'name': 'Demarcus Audette', 'result': 'fail'}\n",
      "{'_id': 101, 'name': 'Tania Hulett', 'result': 'fail'}\n",
      "{'_id': 102, 'name': 'Mercedez Garduno', 'result': 'pass'}\n",
      "{'_id': 103, 'name': 'Fleta Duplantis', 'result': 'fail'}\n",
      "{'_id': 104, 'name': 'Brittny Warwick', 'result': 'pass'}\n",
      "{'_id': 105, 'name': 'Shin Allbright', 'result': 'pass'}\n",
      "{'_id': 106, 'name': 'Karry Petrarca', 'result': 'fail'}\n",
      "{'_id': 107, 'name': 'Beckie Millington', 'result': 'fail'}\n",
      "{'_id': 108, 'name': 'Mikaela Meidinger', 'result': 'pass'}\n",
      "{'_id': 109, 'name': 'Flora Duell', 'result': 'pass'}\n",
      "{'_id': 110, 'name': 'Nobuko Linzey', 'result': 'pass'}\n",
      "{'_id': 111, 'name': 'Gennie Ratner', 'result': 'pass'}\n",
      "{'_id': 112, 'name': 'Myrtle Wolfinger', 'result': 'fail'}\n",
      "{'_id': 113, 'name': '', 'result': 'fail'}\n",
      "{'_id': 114, 'name': 'aimee Zank', 'result': 'fail'}\n",
      "{'_id': 115, 'name': 'Aurelia Menendez', 'result': 'fail'}\n",
      "{'_id': 116, 'name': 'Corliss Zuk', 'result': 'pass'}\n",
      "{'_id': 117, 'name': 'Bao Ziglar', 'result': 'fail'}\n",
      "{'_id': 118, 'name': 'Zachary Langlais', 'result': 'pass'}\n",
      "{'_id': 119, 'name': 'Wilburn Spiess', 'result': 'pass'}\n",
      "{'_id': 120, 'name': 'Jenette Flanders', 'result': 'fail'}\n",
      "{'_id': 121, 'name': 'Salena Olmos', 'result': 'fail'}\n",
      "{'_id': 122, 'name': 'Daphne Zheng', 'result': 'fail'}\n",
      "{'_id': 123, 'name': 'Sanda Ryba', 'result': 'fail'}\n",
      "{'_id': 124, 'name': 'Denisha Cast', 'result': 'fail'}\n",
      "{'_id': 125, 'name': 'Marcus Blohm', 'result': 'fail'}\n",
      "{'_id': 126, 'name': 'Quincy Danaher', 'result': 'pass'}\n",
      "{'_id': 127, 'name': 'Jessika Dagenais', 'result': 'pass'}\n",
      "{'_id': 128, 'name': 'Alix Sherrill', 'result': 'fail'}\n",
      "{'_id': 129, 'name': 'Tambra Mercure', 'result': 'pass'}\n",
      "{'_id': 130, 'name': 'Dodie Staller', 'result': 'pass'}\n",
      "{'_id': 131, 'name': 'Fletcher Mcconnell', 'result': 'fail'}\n",
      "{'_id': 132, 'name': 'Verdell Sowinski', 'result': 'fail'}\n",
      "{'_id': 133, 'name': 'Gisela Levin', 'result': 'fail'}\n",
      "{'_id': 134, 'name': 'Tressa Schwing', 'result': 'fail'}\n",
      "{'_id': 135, 'name': 'Rosana Vales', 'result': 'fail'}\n",
      "{'_id': 136, 'name': 'Margart Vitello', 'result': 'fail'}\n",
      "{'_id': 137, 'name': 'Tamika Schildgen', 'result': 'fail'}\n",
      "{'_id': 138, 'name': 'Jesusa Rickenbacker', 'result': 'fail'}\n",
      "{'_id': 139, 'name': 'Rudolph Domingo', 'result': 'fail'}\n",
      "{'_id': 140, 'name': 'Jonie Raby', 'result': 'fail'}\n",
      "{'_id': 141, 'name': 'Edgar Sarkis', 'result': 'pass'}\n",
      "{'_id': 142, 'name': 'Laureen Salomone', 'result': 'fail'}\n",
      "{'_id': 143, 'name': 'Gwyneth Garling', 'result': 'fail'}\n",
      "{'_id': 144, 'name': 'Kaila Deibler', 'result': 'fail'}\n",
      "{'_id': 145, 'name': 'Tandra Meadows', 'result': 'fail'}\n",
      "{'_id': 146, 'name': 'Gwen Honig', 'result': 'fail'}\n",
      "{'_id': 147, 'name': 'Sadie Jernigan', 'result': 'fail'}\n",
      "{'_id': 148, 'name': 'Carli Belvins', 'result': 'fail'}\n",
      "{'_id': 149, 'name': 'Synthia Labelle', 'result': 'fail'}\n",
      "{'_id': 150, 'name': 'Eugene Magdaleno', 'result': 'fail'}\n",
      "{'_id': 151, 'name': 'Meagan Oakes', 'result': 'fail'}\n",
      "{'_id': 152, 'name': 'Richelle Siemers', 'result': 'fail'}\n",
      "{'_id': 153, 'name': 'Mariette Batdorf', 'result': 'fail'}\n",
      "{'_id': 154, 'name': 'Rachell Aman', 'result': 'fail'}\n",
      "{'_id': 155, 'name': 'Aleida Elsass', 'result': 'fail'}\n",
      "{'_id': 156, 'name': 'Kayce Kenyon', 'result': 'fail'}\n",
      "{'_id': 157, 'name': 'Ernestine Macfarland', 'result': 'fail'}\n",
      "{'_id': 158, 'name': 'Houston Valenti', 'result': 'fail'}\n",
      "{'_id': 159, 'name': 'Terica Brugger', 'result': 'pass'}\n",
      "{'_id': 160, 'name': 'Lady Lefevers', 'result': 'fail'}\n",
      "{'_id': 161, 'name': 'Kurtis Jiles', 'result': 'fail'}\n",
      "{'_id': 162, 'name': 'Barbera Lippman', 'result': 'fail'}\n",
      "{'_id': 163, 'name': 'Dinah Sauve', 'result': 'fail'}\n",
      "{'_id': 164, 'name': 'Alica Pasley', 'result': 'fail'}\n",
      "{'_id': 165, 'name': 'Elizabet Kleine', 'result': 'fail'}\n",
      "{'_id': 166, 'name': 'Tawana Oberg', 'result': 'pass'}\n",
      "{'_id': 167, 'name': 'Malisa Jeanes', 'result': 'pass'}\n",
      "{'_id': 168, 'name': 'Joel Rueter', 'result': 'fail'}\n",
      "{'_id': 169, 'name': 'Tresa Sinha', 'result': 'pass'}\n",
      "{'_id': 170, 'name': 'Danika Loeffler', 'result': 'fail'}\n",
      "{'_id': 171, 'name': 'Chad Rahe', 'result': 'fail'}\n",
      "{'_id': 172, 'name': 'Joaquina Arbuckle', 'result': 'fail'}\n",
      "{'_id': 173, 'name': 'Vinnie Auerbach', 'result': 'fail'}\n",
      "{'_id': 174, 'name': 'Dusti Lemmond', 'result': 'pass'}\n",
      "{'_id': 175, 'name': 'Grady Zemke', 'result': 'fail'}\n",
      "{'_id': 176, 'name': 'Vina Matsunaga', 'result': 'fail'}\n",
      "{'_id': 177, 'name': 'Rubie Winton', 'result': 'fail'}\n",
      "{'_id': 178, 'name': 'Whitley Fears', 'result': 'fail'}\n",
      "{'_id': 179, 'name': 'Gena Riccio', 'result': 'fail'}\n",
      "{'_id': 180, 'name': 'Kim Xu', 'result': 'fail'}\n",
      "{'_id': 181, 'name': 'Merissa Mann', 'result': 'fail'}\n",
      "{'_id': 182, 'name': 'Jenise Mcguffie', 'result': 'pass'}\n",
      "{'_id': 183, 'name': 'Cody Strouth', 'result': 'fail'}\n",
      "{'_id': 184, 'name': 'Harriett Velarde', 'result': 'pass'}\n",
      "{'_id': 185, 'name': 'Kam Senters', 'result': 'pass'}\n",
      "{'_id': 186, 'name': 'Leonida Lafond', 'result': 'fail'}\n",
      "{'_id': 187, 'name': 'Devorah Smartt', 'result': 'fail'}\n",
      "{'_id': 188, 'name': 'Leola Lundin', 'result': 'pass'}\n",
      "{'_id': 189, 'name': 'Tonia Surace', 'result': 'fail'}\n",
      "{'_id': 190, 'name': 'Adrien Renda', 'result': 'pass'}\n",
      "{'_id': 191, 'name': 'Efrain Claw', 'result': 'pass'}\n",
      "{'_id': 192, 'name': 'Len Treiber', 'result': 'fail'}\n",
      "{'_id': 193, 'name': 'Mariela Sherer', 'result': 'pass'}\n",
      "{'_id': 194, 'name': 'Echo Pippins', 'result': 'fail'}\n",
      "{'_id': 195, 'name': 'Linnie Weigel', 'result': 'fail'}\n",
      "{'_id': 196, 'name': 'Santiago Dollins', 'result': 'fail'}\n",
      "{'_id': 197, 'name': 'Tonisha Games', 'result': 'fail'}\n",
      "{'_id': 198, 'name': 'Timothy Harrod', 'result': 'fail'}\n",
      "{'_id': 199, 'name': 'Rae Kohout', 'result': 'fail'}\n"
     ]
    }
   ],
   "source": [
    "for y in records.aggregate([{\"$set\":{\"scores\":{\"$arrayToObject\":[{\"$map\": \n",
    "           {\"input\": \"$scores\",\n",
    "            \"as\": \"s\",\n",
    "            \"in\": {\"k\": \"$$s.type\", \"v\": \"$$s.score\"}}}]}}},{\"$project\":\n",
    "  {\n",
    "     \"_id\":1,\n",
    "     \"name\":1,\n",
    "     \"result\":{\"$cond\":{\"if\": {\"$and\" : [{\"$gte\": [\"$scores.exam\", 40]}, {\"$gte\": [\"$scores.quiz\", 40]}, {\"$gte\": [ \"$scores.homework\", 40]}]},\n",
    "                    \"then\" :\"pass\",\n",
    "                    \"else\":\"fail\"}}}}]):\n",
    "    print(y)"
   ]
  },
  {
   "cell_type": "markdown",
   "id": "2d17cdd9",
   "metadata": {},
   "source": [
    "## 4)       Find the total and average of the exam, quiz and homework and store them in a separate collection"
   ]
  },
  {
   "cell_type": "code",
   "execution_count": 32,
   "id": "d19b78e8",
   "metadata": {},
   "outputs": [],
   "source": [
    "average = db.student_avg_total"
   ]
  },
  {
   "cell_type": "code",
   "execution_count": 35,
   "id": "26f8929f",
   "metadata": {},
   "outputs": [
    {
     "name": "stdout",
     "output_type": "stream",
     "text": [
      "[{'_id': 0, 'name': 'aimee Zank', 'total': 49.11994783171814, 'average': 16.373315943906046}, {'_id': 1, 'name': 'Aurelia Menendez', 'total': 184.61969202100374, 'average': 61.53989734033458}, {'_id': 2, 'name': 'Corliss Zuk', 'total': 139.61606947126907, 'average': 46.53868982375636}, {'_id': 3, 'name': 'Bao Ziglar', 'total': 138.70712252233457, 'average': 46.23570750744486}, {'_id': 4, 'name': 'Zachary Langlais', 'total': 203.3963625302728, 'average': 67.79878751009093}, {'_id': 5, 'name': 'Wilburn Spiess', 'total': 134.0186975547794, 'average': 44.67289918492647}, {'_id': 6, 'name': 'Jenette Flanders', 'total': 147.2203575476617, 'average': 49.07345251588723}, {'_id': 7, 'name': 'Salena Olmos', 'total': 229.3959334774732, 'average': 76.46531115915774}, {'_id': 8, 'name': 'Daphne Zheng', 'total': 112.71677331754347, 'average': 37.57225777251449}, {'_id': 9, 'name': 'Sanda Ryba', 'total': 220.08328118626565, 'average': 73.36109372875522}, {'_id': 10, 'name': 'Denisha Cast', 'total': 199.8843572885121, 'average': 66.62811909617069}, {'_id': 11, 'name': 'Marcus Blohm', 'total': 248.5091538691126, 'average': 82.83638462303753}, {'_id': 12, 'name': 'Quincy Danaher', 'total': 220.3184379933348, 'average': 73.4394793311116}, {'_id': 13, 'name': 'Jessika Dagenais', 'total': 275.94947751518237, 'average': 91.98315917172745}, {'_id': 14, 'name': 'Alix Sherrill', 'total': 118.48870352377075, 'average': 39.49623450792358}, {'_id': 15, 'name': 'Tambra Mercure', 'total': 117.50008641174173, 'average': 39.16669547058058}, {'_id': 16, 'name': 'Dodie Staller', 'total': 120.13675287379564, 'average': 40.045584291265214}, {'_id': 17, 'name': 'Fletcher Mcconnell', 'total': 218.24398017942121, 'average': 72.7479933931404}, {'_id': 18, 'name': 'Verdell Sowinski', 'total': 228.46404278930964, 'average': 76.15468092976988}, {'_id': 19, 'name': 'Gisela Levin', 'total': 138.53337737572195, 'average': 46.17779245857398}, {'_id': 20, 'name': 'Tressa Schwing', 'total': 195.4072727218341, 'average': 65.1357575739447}, {'_id': 21, 'name': 'Rosana Vales', 'total': 180.75828734596254, 'average': 60.25276244865418}, {'_id': 22, 'name': 'Margart Vitello', 'total': 182.00563535570944, 'average': 60.66854511856982}, {'_id': 23, 'name': 'Tamika Schildgen', 'total': 193.52293165444934, 'average': 64.50764388481645}, {'_id': 24, 'name': 'Jesusa Rickenbacker', 'total': 149.10807613148083, 'average': 49.70269204382694}, {'_id': 25, 'name': 'Rudolph Domingo', 'total': 148.54969223180623, 'average': 49.51656407726875}, {'_id': 26, 'name': 'Jonie Raby', 'total': 139.96370462720506, 'average': 46.65456820906835}, {'_id': 27, 'name': 'Edgar Sarkis', 'total': 82.6560500090462, 'average': 27.552016669682065}, {'_id': 28, 'name': 'Laureen Salomone', 'total': 93.67011710439672, 'average': 31.223372368132242}, {'_id': 29, 'name': 'Gwyneth Garling', 'total': 152.01111322298112, 'average': 50.67037107432704}, {'_id': 30, 'name': 'Kaila Deibler', 'total': 139.48229678140956, 'average': 46.49409892713652}, {'_id': 31, 'name': 'Tandra Meadows', 'total': 150.89635115040903, 'average': 50.29878371680301}, {'_id': 32, 'name': 'Gwen Honig', 'total': 263.26630272241187, 'average': 87.75543424080395}, {'_id': 33, 'name': 'Sadie Jernigan', 'total': 158.6873725512847, 'average': 52.895790850428234}, {'_id': 34, 'name': 'Carli Belvins', 'total': 163.84548928047394, 'average': 54.61516309349131}, {'_id': 35, 'name': 'Synthia Labelle', 'total': 137.7409456810277, 'average': 45.91364856034257}, {'_id': 36, 'name': 'Eugene Magdaleno', 'total': 219.003552388691, 'average': 73.00118412956367}, {'_id': 37, 'name': 'Meagan Oakes', 'total': 193.9294745099881, 'average': 64.64315816999603}, {'_id': 38, 'name': 'Richelle Siemers', 'total': 182.2378812069286, 'average': 60.74596040230953}, {'_id': 39, 'name': 'Mariette Batdorf', 'total': 156.18768410864072, 'average': 52.062561369546906}, {'_id': 40, 'name': 'Rachell Aman', 'total': 180.20639736938892, 'average': 60.068799123129644}, {'_id': 41, 'name': 'Aleida Elsass', 'total': 191.3374155242169, 'average': 63.7791385080723}, {'_id': 42, 'name': 'Kayce Kenyon', 'total': 169.44237645698738, 'average': 56.48079215232912}, {'_id': 43, 'name': 'Ernestine Macfarland', 'total': 124.72878418014199, 'average': 41.57626139338066}, {'_id': 44, 'name': 'Houston Valenti', 'total': 114.15826509656077, 'average': 38.05275503218692}, {'_id': 45, 'name': 'Terica Brugger', 'total': 102.75054456167355, 'average': 34.25018152055785}, {'_id': 46, 'name': 'Lady Lefevers', 'total': 131.29270853967185, 'average': 43.76423617989062}, {'_id': 47, 'name': 'Kurtis Jiles', 'total': 147.7356498111623, 'average': 49.24521660372076}, {'_id': 48, 'name': 'Barbera Lippman', 'total': 206.96494520146337, 'average': 68.98831506715446}, {'_id': 49, 'name': 'Dinah Sauve', 'total': 183.2179783546083, 'average': 61.072659451536104}, {'_id': 50, 'name': 'Alica Pasley', 'total': 168.7205264204154, 'average': 56.2401754734718}, {'_id': 51, 'name': 'Elizabet Kleine', 'total': 200.94891534204805, 'average': 66.98297178068269}, {'_id': 52, 'name': 'Tawana Oberg', 'total': 266.99578221547233, 'average': 88.99859407182412}, {'_id': 53, 'name': 'Malisa Jeanes', 'total': 121.1518349933377, 'average': 40.38394499777923}, {'_id': 54, 'name': 'Joel Rueter', 'total': 242.0364415445718, 'average': 80.6788138481906}, {'_id': 55, 'name': 'Tresa Sinha', 'total': 244.5023996395232, 'average': 81.50079987984107}, {'_id': 56, 'name': 'Danika Loeffler', 'total': 119.00689284424402, 'average': 39.668964281414674}, {'_id': 57, 'name': 'Chad Rahe', 'total': 163.19418005225754, 'average': 54.398060017419176}, {'_id': 58, 'name': 'Joaquina Arbuckle', 'total': 120.66923159080469, 'average': 40.223077196934895}, {'_id': 59, 'name': 'Vinnie Auerbach', 'total': 131.55784600976585, 'average': 43.85261533658862}, {'_id': 60, 'name': 'Dusti Lemmond', 'total': 182.36423465019507, 'average': 60.78807821673169}, {'_id': 61, 'name': 'Grady Zemke', 'total': 197.34049948667015, 'average': 65.78016649555671}, {'_id': 62, 'name': 'Vina Matsunaga', 'total': 132.2872844609489, 'average': 44.09576148698297}, {'_id': 63, 'name': 'Rubie Winton', 'total': 72.74345907466646, 'average': 24.247819691555488}, {'_id': 64, 'name': 'Whitley Fears', 'total': 268.6463713649928, 'average': 89.54879045499759}, {'_id': 65, 'name': 'Gena Riccio', 'total': 177.76002098364026, 'average': 59.25334032788009}, {'_id': 66, 'name': 'Kim Xu', 'total': 94.82481083119796, 'average': 31.608270277065987}, {'_id': 67, 'name': 'Merissa Mann', 'total': 222.43538108594768, 'average': 74.14512702864923}, {'_id': 68, 'name': 'Jenise Mcguffie', 'total': 182.34150787254515, 'average': 60.780502624181715}, {'_id': 69, 'name': 'Cody Strouth', 'total': 202.4848718127078, 'average': 67.4949572709026}, {'_id': 70, 'name': 'Harriett Velarde', 'total': 176.07490979439646, 'average': 58.691636598132156}, {'_id': 71, 'name': 'Kam Senters', 'total': 178.913172052241, 'average': 59.63772401741367}, {'_id': 72, 'name': 'Leonida Lafond', 'total': 206.92216095602325, 'average': 68.97405365200775}, {'_id': 73, 'name': 'Devorah Smartt', 'total': 132.19316603930335, 'average': 44.06438867976778}, {'_id': 74, 'name': 'Leola Lundin', 'total': 216.63267038170724, 'average': 72.21089012723574}, {'_id': 75, 'name': 'Tonia Surace', 'total': 201.82584001807396, 'average': 67.27528000602466}, {'_id': 76, 'name': 'Adrien Renda', 'total': 147.47020593990004, 'average': 49.15673531330001}, {'_id': 77, 'name': 'Efrain Claw', 'total': 175.44760101431834, 'average': 58.48253367143945}, {'_id': 78, 'name': 'Len Treiber', 'total': 116.94520656066045, 'average': 38.98173552022015}, {'_id': 79, 'name': 'Mariela Sherer', 'total': 204.9282017860081, 'average': 68.30940059533603}, {'_id': 80, 'name': 'Echo Pippins', 'total': 205.47216171064758, 'average': 68.49072057021586}, {'_id': 81, 'name': 'Linnie Weigel', 'total': 171.94196655853844, 'average': 57.313988852846144}, {'_id': 82, 'name': 'Santiago Dollins', 'total': 181.00006173963334, 'average': 60.33335391321111}, {'_id': 83, 'name': 'Tonisha Games', 'total': 131.11934974450202, 'average': 43.706449914834}, {'_id': 84, 'name': 'Timothy Harrod', 'total': 216.29819060759476, 'average': 72.09939686919826}, {'_id': 85, 'name': 'Rae Kohout', 'total': 178.820098003648, 'average': 59.60669933454934}, {'_id': 86, 'name': 'Brain Lachapelle', 'total': 135.07862363042534, 'average': 45.02620787680845}, {'_id': 87, 'name': 'Toshiko Sabella', 'total': 90.29289206681383, 'average': 30.097630688937944}, {'_id': 88, 'name': 'Keesha Papadopoulos', 'total': 183.8870127743818, 'average': 61.29567092479393}, {'_id': 89, 'name': 'Cassi Heal', 'total': 106.93494167763413, 'average': 35.644980559211376}, {'_id': 90, 'name': 'Osvaldo Hirt', 'total': 185.53797432894692, 'average': 61.8459914429823}, {'_id': 91, 'name': 'Ty Barbieri', 'total': 206.94394766986875, 'average': 68.98131588995625}, {'_id': 92, 'name': 'Ta Sikorski', 'total': 115.74213180964733, 'average': 38.58071060321578}, {'_id': 93, 'name': 'Lucinda Vanderburg', 'total': 114.55089488600422, 'average': 38.183631628668074}, {'_id': 94, 'name': 'Darby Wass', 'total': 155.7771022790884, 'average': 51.925700759696134}, {'_id': 95, 'name': 'Omar Bowdoin', 'total': 122.70623232239147, 'average': 40.90207744079716}, {'_id': 96, 'name': 'Milan Mcgavock', 'total': 104.19377141035015, 'average': 34.731257136783384}, {'_id': 97, 'name': 'Maren Scheider', 'total': 231.17881123988664, 'average': 77.05960374662888}, {'_id': 98, 'name': 'Carli Ector', 'total': 244.82763178118856, 'average': 81.60921059372951}, {'_id': 99, 'name': 'Jaclyn Morado', 'total': 174.5461576760983, 'average': 58.18205255869943}, {'_id': 100, 'name': 'Demarcus Audette', 'total': 131.27751820054362, 'average': 43.75917273351454}, {'_id': 101, 'name': 'Tania Hulett', 'total': 155.30833228670144, 'average': 51.769444095567145}, {'_id': 102, 'name': 'Mercedez Garduno', 'total': 175.59251820500876, 'average': 58.53083940166959}, {'_id': 103, 'name': 'Fleta Duplantis', 'total': 178.1433701618344, 'average': 59.38112338727814}, {'_id': 104, 'name': 'Brittny Warwick', 'total': 247.51315928921287, 'average': 82.50438642973762}, {'_id': 105, 'name': 'Shin Allbright', 'total': 236.5473215674034, 'average': 78.84910718913447}, {'_id': 106, 'name': 'Karry Petrarca', 'total': 58.45858761680128, 'average': 19.486195872267093}, {'_id': 107, 'name': 'Beckie Millington', 'total': 129.29870077731468, 'average': 43.09956692577156}, {'_id': 108, 'name': 'Mikaela Meidinger', 'total': 211.94374606058196, 'average': 70.64791535352732}, {'_id': 109, 'name': 'Flora Duell', 'total': 156.75611063955935, 'average': 52.252036879853115}, {'_id': 110, 'name': 'Nobuko Linzey', 'total': 173.43955303906787, 'average': 57.81318434635596}, {'_id': 111, 'name': 'Gennie Ratner', 'total': 208.03498281392888, 'average': 69.34499427130963}, {'_id': 112, 'name': 'Myrtle Wolfinger', 'total': 203.79119045268433, 'average': 67.93039681756144}, {'_id': 113, 'name': '', 'total': 158.1297878869123, 'average': 52.70992929563744}, {'_id': 114, 'name': 'aimee Zank', 'total': 130.9721943324432, 'average': 43.6573981108144}, {'_id': 115, 'name': 'Aurelia Menendez', 'total': 105.10579094395169, 'average': 35.035263647983896}, {'_id': 116, 'name': 'Corliss Zuk', 'total': 221.3468479915618, 'average': 73.78228266385393}, {'_id': 117, 'name': 'Bao Ziglar', 'total': 154.0475585018162, 'average': 51.34918616727207}, {'_id': 118, 'name': 'Zachary Langlais', 'total': 205.6587944217254, 'average': 68.55293147390846}, {'_id': 119, 'name': 'Wilburn Spiess', 'total': 210.29151529851958, 'average': 70.09717176617319}, {'_id': 120, 'name': 'Jenette Flanders', 'total': 107.87159055374062, 'average': 35.95719685124687}, {'_id': 121, 'name': 'Salena Olmos', 'total': 110.68556639219787, 'average': 36.89518879739929}, {'_id': 122, 'name': 'Daphne Zheng', 'total': 171.68464931123447, 'average': 57.22821643707815}, {'_id': 123, 'name': 'Sanda Ryba', 'total': 71.27146027282822, 'average': 23.757153424276073}, {'_id': 124, 'name': 'Denisha Cast', 'total': 118.2341215780863, 'average': 39.4113738593621}, {'_id': 125, 'name': 'Marcus Blohm', 'total': 137.0342890305606, 'average': 45.678096343520195}, {'_id': 126, 'name': 'Quincy Danaher', 'total': 202.62862134543295, 'average': 67.54287378181098}, {'_id': 127, 'name': 'Jessika Dagenais', 'total': 263.3989659226766, 'average': 87.79965530755887}, {'_id': 128, 'name': 'Alix Sherrill', 'total': 82.27965485189299, 'average': 27.426551617297662}, {'_id': 129, 'name': 'Tambra Mercure', 'total': 195.46779056021487, 'average': 65.15593018673829}, {'_id': 130, 'name': 'Dodie Staller', 'total': 199.56471905226374, 'average': 66.52157301742125}, {'_id': 131, 'name': 'Fletcher Mcconnell', 'total': 149.26675330972444, 'average': 49.755584436574814}, {'_id': 132, 'name': 'Verdell Sowinski', 'total': 145.68727217339975, 'average': 48.562424057799916}, {'_id': 133, 'name': 'Gisela Levin', 'total': 123.94644554660488, 'average': 41.315481848868295}, {'_id': 134, 'name': 'Tressa Schwing', 'total': 166.0992291248508, 'average': 55.366409708283605}, {'_id': 135, 'name': 'Rosana Vales', 'total': 112.23313600351938, 'average': 37.41104533450646}, {'_id': 136, 'name': 'Margart Vitello', 'total': 166.81836101629523, 'average': 55.60612033876507}, {'_id': 137, 'name': 'Tamika Schildgen', 'total': 159.53213257952987, 'average': 53.17737752650996}, {'_id': 138, 'name': 'Jesusa Rickenbacker', 'total': 115.54875333859893, 'average': 38.51625111286631}, {'_id': 139, 'name': 'Rudolph Domingo', 'total': 160.0864123492324, 'average': 53.36213744974413}, {'_id': 140, 'name': 'Jonie Raby', 'total': 102.86145390316119, 'average': 34.28715130105373}, {'_id': 141, 'name': 'Edgar Sarkis', 'total': 199.81866315163785, 'average': 66.60622105054595}, {'_id': 142, 'name': 'Laureen Salomone', 'total': 153.09832674227243, 'average': 51.03277558075748}, {'_id': 143, 'name': 'Gwyneth Garling', 'total': 152.28848205662155, 'average': 50.76282735220718}, {'_id': 144, 'name': 'Kaila Deibler', 'total': 183.09592918689077, 'average': 61.03197639563026}, {'_id': 145, 'name': 'Tandra Meadows', 'total': 87.5629850401662, 'average': 29.1876616800554}, {'_id': 146, 'name': 'Gwen Honig', 'total': 201.4156031244819, 'average': 67.1385343748273}, {'_id': 147, 'name': 'Sadie Jernigan', 'total': 141.02791381651215, 'average': 47.00930460550405}, {'_id': 148, 'name': 'Carli Belvins', 'total': 174.61862132435388, 'average': 58.20620710811796}, {'_id': 149, 'name': 'Synthia Labelle', 'total': 141.50995457365985, 'average': 47.16998485788662}, {'_id': 150, 'name': 'Eugene Magdaleno', 'total': 126.52248166745106, 'average': 42.17416055581702}, {'_id': 151, 'name': 'Meagan Oakes', 'total': 186.33086651795293, 'average': 62.11028883931764}, {'_id': 152, 'name': 'Richelle Siemers', 'total': 139.60355242003698, 'average': 46.53451747334566}, {'_id': 153, 'name': 'Mariette Batdorf', 'total': 182.97224595186648, 'average': 60.99074865062216}, {'_id': 154, 'name': 'Rachell Aman', 'total': 164.66123279589482, 'average': 54.887077598631606}, {'_id': 155, 'name': 'Aleida Elsass', 'total': 167.56608209438596, 'average': 55.855360698128656}, {'_id': 156, 'name': 'Kayce Kenyon', 'total': 144.78774966244362, 'average': 48.26258322081454}, {'_id': 157, 'name': 'Ernestine Macfarland', 'total': 160.1015626796132, 'average': 53.36718755987107}, {'_id': 158, 'name': 'Houston Valenti', 'total': 165.92615898115974, 'average': 55.30871966038658}, {'_id': 159, 'name': 'Terica Brugger', 'total': 251.40459832855427, 'average': 83.80153277618476}, {'_id': 160, 'name': 'Lady Lefevers', 'total': 188.71235039768163, 'average': 62.90411679922721}, {'_id': 161, 'name': 'Kurtis Jiles', 'total': 169.36123484704996, 'average': 56.45374494901665}, {'_id': 162, 'name': 'Barbera Lippman', 'total': 123.87383657752201, 'average': 41.29127885917401}, {'_id': 163, 'name': 'Dinah Sauve', 'total': 75.2279417690119, 'average': 25.075980589670635}, {'_id': 164, 'name': 'Alica Pasley', 'total': 165.6328413850593, 'average': 55.2109471283531}, {'_id': 165, 'name': 'Elizabet Kleine', 'total': 128.08011084675638, 'average': 42.693370282252125}, {'_id': 166, 'name': 'Tawana Oberg', 'total': 243.58164706138706, 'average': 81.19388235379569}, {'_id': 167, 'name': 'Malisa Jeanes', 'total': 187.97482237036616, 'average': 62.658274123455385}, {'_id': 168, 'name': 'Joel Rueter', 'total': 66.68048171963756, 'average': 22.226827239879185}, {'_id': 169, 'name': 'Tresa Sinha', 'total': 204.71743269051856, 'average': 68.23914423017285}, {'_id': 170, 'name': 'Danika Loeffler', 'total': 177.90923607877596, 'average': 59.30307869292532}, {'_id': 171, 'name': 'Chad Rahe', 'total': 181.46853696091893, 'average': 60.48951232030631}, {'_id': 172, 'name': 'Joaquina Arbuckle', 'total': 224.32072038808982, 'average': 74.7735734626966}, {'_id': 173, 'name': 'Vinnie Auerbach', 'total': 154.92533590812064, 'average': 51.641778636040215}, {'_id': 174, 'name': 'Dusti Lemmond', 'total': 193.43589837735124, 'average': 64.47863279245041}, {'_id': 175, 'name': 'Grady Zemke', 'total': 106.35844585670458, 'average': 35.45281528556819}, {'_id': 176, 'name': 'Vina Matsunaga', 'total': 133.82960397641585, 'average': 44.60986799213862}, {'_id': 177, 'name': 'Rubie Winton', 'total': 216.40738876682235, 'average': 72.13579625560745}, {'_id': 178, 'name': 'Whitley Fears', 'total': 177.765433771189, 'average': 59.255144590396334}, {'_id': 179, 'name': 'Gena Riccio', 'total': 201.16314710069156, 'average': 67.05438236689719}, {'_id': 180, 'name': 'Kim Xu', 'total': 160.22762084530626, 'average': 53.40920694843542}, {'_id': 181, 'name': 'Merissa Mann', 'total': 100.71792724568269, 'average': 33.57264241522756}, {'_id': 182, 'name': 'Jenise Mcguffie', 'total': 247.05570912321798, 'average': 82.35190304107266}, {'_id': 183, 'name': 'Cody Strouth', 'total': 201.24422489578706, 'average': 67.08140829859569}, {'_id': 184, 'name': 'Harriett Velarde', 'total': 220.21398004688464, 'average': 73.40466001562821}, {'_id': 185, 'name': 'Kam Senters', 'total': 164.057897124202, 'average': 54.68596570806733}, {'_id': 186, 'name': 'Leonida Lafond', 'total': 98.45768055586619, 'average': 32.8192268519554}, {'_id': 187, 'name': 'Devorah Smartt', 'total': 100.39268848940416, 'average': 33.46422949646806}, {'_id': 188, 'name': 'Leola Lundin', 'total': 176.30791809119162, 'average': 58.76930603039721}, {'_id': 189, 'name': 'Tonia Surace', 'total': 181.79622614209114, 'average': 60.598742047363714}, {'_id': 190, 'name': 'Adrien Renda', 'total': 227.1544319588548, 'average': 75.71814398628493}, {'_id': 191, 'name': 'Efrain Claw', 'total': 252.83317597388418, 'average': 84.27772532462807}, {'_id': 192, 'name': 'Len Treiber', 'total': 182.73801465117188, 'average': 60.91267155039063}, {'_id': 193, 'name': 'Mariela Sherer', 'total': 159.69068323680992, 'average': 53.23022774560331}, {'_id': 194, 'name': 'Echo Pippins', 'total': 133.2728581307499, 'average': 44.4242860435833}, {'_id': 195, 'name': 'Linnie Weigel', 'total': 154.97337291894834, 'average': 51.65779097298278}, {'_id': 196, 'name': 'Santiago Dollins', 'total': 164.46610025223168, 'average': 54.82203341741056}, {'_id': 197, 'name': 'Tonisha Games', 'total': 148.83413523189756, 'average': 49.61137841063252}, {'_id': 198, 'name': 'Timothy Harrod', 'total': 97.28287057232586, 'average': 32.42762352410862}, {'_id': 199, 'name': 'Rae Kohout', 'total': 160.5986170288919, 'average': 53.53287234296397}]\n"
     ]
    },
    {
     "data": {
      "text/plain": [
       "<pymongo.results.InsertManyResult at 0x186986189d0>"
      ]
     },
     "execution_count": 35,
     "metadata": {},
     "output_type": "execute_result"
    }
   ],
   "source": [
    "data = []\n",
    "for j in records.aggregate([{\"$unwind\":\"$scores\"},{\"$group\":{\"_id\":\"$_id\",\"name\":{\"$first\":\"$name\"},\"total\":{\"$sum\":\"$scores.score\"},\"average\":{\"$avg\":\"$scores.score\"}}},{\"$sort\":{\"_id\":1}}]):\n",
    "    data.append(j)\n",
    "print(data)\n",
    "average.insert_many(data)"
   ]
  },
  {
   "cell_type": "markdown",
   "id": "762baeec",
   "metadata": {},
   "source": [
    "## 5)      Create a new collection which consists of students who scored below average and above 40% in all the categories."
   ]
  },
  {
   "cell_type": "code",
   "execution_count": 38,
   "id": "ec40c6ce",
   "metadata": {},
   "outputs": [],
   "source": [
    "below_average = db.belowavg"
   ]
  },
  {
   "cell_type": "code",
   "execution_count": 39,
   "id": "426efd50",
   "metadata": {},
   "outputs": [
    {
     "name": "stdout",
     "output_type": "stream",
     "text": [
      "[{'_id': 65, 'name': 'Gena Riccio', 'scores': [{'score': 67.58395308948619, 'type': 'exam'}, {'score': 67.2413500951588, 'type': 'quiz'}, {'score': 42.93471779899529, 'type': 'homework'}]}, {'_id': 85, 'name': 'Rae Kohout', 'scores': [{'score': 63.86894250781692, 'type': 'exam'}, {'score': 55.81549538273672, 'type': 'quiz'}, {'score': 59.13566011309437, 'type': 'homework'}]}, {'_id': 109, 'name': 'Flora Duell', 'scores': [{'score': 40.68238966626067, 'type': 'exam'}, {'score': 46.77972040308903, 'type': 'quiz'}, {'score': 69.29400057020965, 'type': 'homework'}]}, {'_id': 110, 'name': 'Nobuko Linzey', 'scores': [{'score': 67.40792606687442, 'type': 'exam'}, {'score': 58.58331128403415, 'type': 'quiz'}, {'score': 47.44831568815929, 'type': 'homework'}]}, {'_id': 185, 'name': 'Kam Senters', 'scores': [{'score': 49.8822537074033, 'type': 'exam'}, {'score': 45.29515361387067, 'type': 'quiz'}, {'score': 68.88048980292801, 'type': 'homework'}]}]\n"
     ]
    },
    {
     "data": {
      "text/plain": [
       "<pymongo.results.InsertManyResult at 0x18698618610>"
      ]
     },
     "execution_count": 39,
     "metadata": {},
     "output_type": "execute_result"
    }
   ],
   "source": [
    "below_avg = []\n",
    "for n in records.aggregate([{\"$match\":{\"$expr\":{\"$and\":[{\"$gt\":[{\"$min\":\"$scores.score\"},40]},{\"$lt\":[{\"$max\":\"$scores.score\"},70]}]}}}]):\n",
    "    below_avg.append(n)\n",
    "print(below_avg)\n",
    "\n",
    "below_average.insert_many(below_avg)"
   ]
  },
  {
   "cell_type": "markdown",
   "id": "716ad583",
   "metadata": {},
   "source": [
    "## 6)      Create a new collection which consists of students who scored below the fail mark in all the categories"
   ]
  },
  {
   "cell_type": "code",
   "execution_count": 40,
   "id": "2f7de4eb",
   "metadata": {},
   "outputs": [],
   "source": [
    "fail = db.fail"
   ]
  },
  {
   "cell_type": "code",
   "execution_count": 42,
   "id": "fb32ae20",
   "metadata": {},
   "outputs": [
    {
     "name": "stdout",
     "output_type": "stream",
     "text": [
      "[{'_id': 0, 'name': 'aimee Zank', 'scores': [{'score': 1.463179736705023, 'type': 'exam'}, {'score': 11.78273309957772, 'type': 'quiz'}, {'score': 35.8740349954354, 'type': 'homework'}]}]\n"
     ]
    },
    {
     "data": {
      "text/plain": [
       "<pymongo.results.InsertManyResult at 0x18698618bb0>"
      ]
     },
     "execution_count": 42,
     "metadata": {},
     "output_type": "execute_result"
    }
   ],
   "source": [
    "failure = []\n",
    "for i in records.aggregate([{\"$match\":{\"$expr\":{\"$lt\":[{\"$max\":\"$scores.score\"},40]}}}]):\n",
    "    failure.append(i)\n",
    "print(failure)\n",
    "\n",
    "fail.insert_many(failure)"
   ]
  },
  {
   "cell_type": "markdown",
   "id": "d32a1932",
   "metadata": {},
   "source": [
    "## 7)      Create a new collection which consists of students who scored above pass mark in all the categories."
   ]
  },
  {
   "cell_type": "code",
   "execution_count": 43,
   "id": "7bd72490",
   "metadata": {},
   "outputs": [],
   "source": [
    "pass_mark = db.pass_mark"
   ]
  },
  {
   "cell_type": "code",
   "execution_count": 44,
   "id": "74f96454",
   "metadata": {},
   "outputs": [
    {
     "name": "stdout",
     "output_type": "stream",
     "text": [
      "[{'_id': 1, 'name': 'Aurelia Menendez', 'scores': [{'score': 60.06045071030959, 'type': 'exam'}, {'score': 52.79790691903873, 'type': 'quiz'}, {'score': 71.76133439165544, 'type': 'homework'}]}, {'_id': 7, 'name': 'Salena Olmos', 'scores': [{'score': 90.37826509157176, 'type': 'exam'}, {'score': 42.48780666956811, 'type': 'quiz'}, {'score': 96.52986171633331, 'type': 'homework'}]}, {'_id': 10, 'name': 'Denisha Cast', 'scores': [{'score': 45.61876862259409, 'type': 'exam'}, {'score': 98.35723209418343, 'type': 'quiz'}, {'score': 55.90835657173456, 'type': 'homework'}]}, {'_id': 11, 'name': 'Marcus Blohm', 'scores': [{'score': 78.42617835651868, 'type': 'exam'}, {'score': 82.58372817930675, 'type': 'quiz'}, {'score': 87.49924733328717, 'type': 'homework'}]}, {'_id': 12, 'name': 'Quincy Danaher', 'scores': [{'score': 54.29841278520669, 'type': 'exam'}, {'score': 85.61270164694737, 'type': 'quiz'}, {'score': 80.40732356118075, 'type': 'homework'}]}, {'_id': 13, 'name': 'Jessika Dagenais', 'scores': [{'score': 90.47179954427436, 'type': 'exam'}, {'score': 90.3001402468489, 'type': 'quiz'}, {'score': 95.17753772405909, 'type': 'homework'}]}, {'_id': 18, 'name': 'Verdell Sowinski', 'scores': [{'score': 62.12870233109035, 'type': 'exam'}, {'score': 84.74586220889356, 'type': 'quiz'}, {'score': 81.58947824932574, 'type': 'homework'}]}, {'_id': 20, 'name': 'Tressa Schwing', 'scores': [{'score': 42.17439799514388, 'type': 'exam'}, {'score': 71.99314840599558, 'type': 'quiz'}, {'score': 81.23972632069464, 'type': 'homework'}]}, {'_id': 23, 'name': 'Tamika Schildgen', 'scores': [{'score': 45.65432764125526, 'type': 'exam'}, {'score': 64.32927049658846, 'type': 'quiz'}, {'score': 83.53933351660562, 'type': 'homework'}]}, {'_id': 32, 'name': 'Gwen Honig', 'scores': [{'score': 87.14345376886205, 'type': 'exam'}, {'score': 99.45824441135635, 'type': 'quiz'}, {'score': 76.66460454219344, 'type': 'homework'}]}, {'_id': 36, 'name': 'Eugene Magdaleno', 'scores': [{'score': 73.055900093666, 'type': 'exam'}, {'score': 79.85621560462026, 'type': 'quiz'}, {'score': 66.09143669040472, 'type': 'homework'}]}, {'_id': 52, 'name': 'Tawana Oberg', 'scores': [{'score': 80.59006098671075, 'type': 'exam'}, {'score': 93.28438118988183, 'type': 'quiz'}, {'score': 93.12134003887978, 'type': 'homework'}]}, {'_id': 54, 'name': 'Joel Rueter', 'scores': [{'score': 87.53636893952853, 'type': 'exam'}, {'score': 92.70974674256513, 'type': 'quiz'}, {'score': 61.79032586247813, 'type': 'homework'}]}, {'_id': 55, 'name': 'Tresa Sinha', 'scores': [{'score': 94.93136959210354, 'type': 'exam'}, {'score': 72.32226123565266, 'type': 'quiz'}, {'score': 77.248768811767, 'type': 'homework'}]}, {'_id': 61, 'name': 'Grady Zemke', 'scores': [{'score': 51.91561300267121, 'type': 'exam'}, {'score': 50.08349374829509, 'type': 'quiz'}, {'score': 95.34139273570386, 'type': 'homework'}]}, {'_id': 64, 'name': 'Whitley Fears', 'scores': [{'score': 89.61845831842888, 'type': 'exam'}, {'score': 82.44879156010508, 'type': 'quiz'}, {'score': 96.57912148645883, 'type': 'homework'}]}, {'_id': 65, 'name': 'Gena Riccio', 'scores': [{'score': 67.58395308948619, 'type': 'exam'}, {'score': 67.2413500951588, 'type': 'quiz'}, {'score': 42.93471779899529, 'type': 'homework'}]}, {'_id': 67, 'name': 'Merissa Mann', 'scores': [{'score': 75.1949733626123, 'type': 'exam'}, {'score': 52.56522605123723, 'type': 'quiz'}, {'score': 94.67518167209815, 'type': 'homework'}]}, {'_id': 68, 'name': 'Jenise Mcguffie', 'scores': [{'score': 40.15210496060384, 'type': 'exam'}, {'score': 90.60219950183566, 'type': 'quiz'}, {'score': 51.58720341010564, 'type': 'homework'}]}, {'_id': 75, 'name': 'Tonia Surace', 'scores': [{'score': 80.93655069496523, 'type': 'exam'}, {'score': 79.54620208144452, 'type': 'quiz'}, {'score': 41.34308724166419, 'type': 'homework'}]}, {'_id': 79, 'name': 'Mariela Sherer', 'scores': [{'score': 61.20158144877323, 'type': 'exam'}, {'score': 52.75657259917104, 'type': 'quiz'}, {'score': 90.97004773806381, 'type': 'homework'}]}, {'_id': 84, 'name': 'Timothy Harrod', 'scores': [{'score': 93.23020013495737, 'type': 'exam'}, {'score': 49.06010347848443, 'type': 'quiz'}, {'score': 74.00788699415295, 'type': 'homework'}]}, {'_id': 85, 'name': 'Rae Kohout', 'scores': [{'score': 63.86894250781692, 'type': 'exam'}, {'score': 55.81549538273672, 'type': 'quiz'}, {'score': 59.13566011309437, 'type': 'homework'}]}, {'_id': 90, 'name': 'Osvaldo Hirt', 'scores': [{'score': 67.44931456608883, 'type': 'exam'}, {'score': 41.77986504201782, 'type': 'quiz'}, {'score': 76.30879472084027, 'type': 'homework'}]}, {'_id': 97, 'name': 'Maren Scheider', 'scores': [{'score': 94.4329121733663, 'type': 'exam'}, {'score': 77.28263690107663, 'type': 'quiz'}, {'score': 59.46326216544371, 'type': 'homework'}]}, {'_id': 98, 'name': 'Carli Ector', 'scores': [{'score': 88.18040268522668, 'type': 'exam'}, {'score': 60.3111085581054, 'type': 'quiz'}, {'score': 96.33612053785647, 'type': 'homework'}]}, {'_id': 99, 'name': 'Jaclyn Morado', 'scores': [{'score': 70.27627082122453, 'type': 'exam'}, {'score': 56.78470387064279, 'type': 'quiz'}, {'score': 47.48518298423097, 'type': 'homework'}]}, {'_id': 102, 'name': 'Mercedez Garduno', 'scores': [{'score': 49.52877007656483, 'type': 'exam'}, {'score': 44.55505066212384, 'type': 'quiz'}, {'score': 81.50869746632009, 'type': 'homework'}]}, {'_id': 104, 'name': 'Brittny Warwick', 'scores': [{'score': 69.54399888097534, 'type': 'exam'}, {'score': 82.00469934215849, 'type': 'quiz'}, {'score': 95.96446106607902, 'type': 'homework'}]}, {'_id': 105, 'name': 'Shin Allbright', 'scores': [{'score': 62.28388941877533, 'type': 'exam'}, {'score': 85.26863799439475, 'type': 'quiz'}, {'score': 88.9947941542333, 'type': 'homework'}]}, {'_id': 108, 'name': 'Mikaela Meidinger', 'scores': [{'score': 63.75595052560389, 'type': 'exam'}, {'score': 59.52298111997963, 'type': 'quiz'}, {'score': 88.66481441499843, 'type': 'homework'}]}, {'_id': 109, 'name': 'Flora Duell', 'scores': [{'score': 40.68238966626067, 'type': 'exam'}, {'score': 46.77972040308903, 'type': 'quiz'}, {'score': 69.29400057020965, 'type': 'homework'}]}, {'_id': 110, 'name': 'Nobuko Linzey', 'scores': [{'score': 67.40792606687442, 'type': 'exam'}, {'score': 58.58331128403415, 'type': 'quiz'}, {'score': 47.44831568815929, 'type': 'homework'}]}, {'_id': 111, 'name': 'Gennie Ratner', 'scores': [{'score': 62.74309964110307, 'type': 'exam'}, {'score': 92.18013849235186, 'type': 'quiz'}, {'score': 53.11174468047395, 'type': 'homework'}]}, {'_id': 116, 'name': 'Corliss Zuk', 'scores': [{'score': 76.45468797439878, 'type': 'exam'}, {'score': 53.02642890026489, 'type': 'quiz'}, {'score': 91.86573111689813, 'type': 'homework'}]}, {'_id': 118, 'name': 'Zachary Langlais', 'scores': [{'score': 62.20457822364115, 'type': 'exam'}, {'score': 61.03733414415722, 'type': 'quiz'}, {'score': 82.41688205392703, 'type': 'homework'}]}, {'_id': 119, 'name': 'Wilburn Spiess', 'scores': [{'score': 52.36963021569788, 'type': 'exam'}, {'score': 96.5715450678789, 'type': 'quiz'}, {'score': 61.35034001494281, 'type': 'homework'}]}, {'_id': 126, 'name': 'Quincy Danaher', 'scores': [{'score': 40.53136904234401, 'type': 'exam'}, {'score': 83.09270171511093, 'type': 'quiz'}, {'score': 79.004550587978, 'type': 'homework'}]}, {'_id': 127, 'name': 'Jessika Dagenais', 'scores': [{'score': 96.93459855769822, 'type': 'exam'}, {'score': 95.6756371543187, 'type': 'quiz'}, {'score': 70.7887302106597, 'type': 'homework'}]}, {'_id': 129, 'name': 'Tambra Mercure', 'scores': [{'score': 62.61423873241083, 'type': 'exam'}, {'score': 47.64776674251425, 'type': 'quiz'}, {'score': 85.20578508528978, 'type': 'homework'}]}, {'_id': 130, 'name': 'Dodie Staller', 'scores': [{'score': 52.16051124848157, 'type': 'exam'}, {'score': 83.51563143820728, 'type': 'quiz'}, {'score': 63.88857636557489, 'type': 'homework'}]}, {'_id': 141, 'name': 'Edgar Sarkis', 'scores': [{'score': 65.99888014434269, 'type': 'exam'}, {'score': 58.75598946266268, 'type': 'quiz'}, {'score': 75.06379354463246, 'type': 'homework'}]}, {'_id': 159, 'name': 'Terica Brugger', 'scores': [{'score': 97.822030541043, 'type': 'exam'}, {'score': 91.56280485763772, 'type': 'quiz'}, {'score': 62.01976292987356, 'type': 'homework'}]}, {'_id': 166, 'name': 'Tawana Oberg', 'scores': [{'score': 79.24755285478162, 'type': 'exam'}, {'score': 97.28127199858804, 'type': 'quiz'}, {'score': 67.0528222080174, 'type': 'homework'}]}, {'_id': 167, 'name': 'Malisa Jeanes', 'scores': [{'score': 40.68676040665008, 'type': 'exam'}, {'score': 52.60826688242043, 'type': 'quiz'}, {'score': 94.67979508129564, 'type': 'homework'}]}, {'_id': 169, 'name': 'Tresa Sinha', 'scores': [{'score': 52.22632020277269, 'type': 'exam'}, {'score': 65.68701091428014, 'type': 'quiz'}, {'score': 86.80410157346574, 'type': 'homework'}]}, {'_id': 174, 'name': 'Dusti Lemmond', 'scores': [{'score': 91.51968055194875, 'type': 'exam'}, {'score': 50.37682668957234, 'type': 'quiz'}, {'score': 51.53939113583016, 'type': 'homework'}]}, {'_id': 182, 'name': 'Jenise Mcguffie', 'scores': [{'score': 83.68438201130127, 'type': 'exam'}, {'score': 73.79931763764928, 'type': 'quiz'}, {'score': 89.57200947426745, 'type': 'homework'}]}, {'_id': 184, 'name': 'Harriett Velarde', 'scores': [{'score': 41.47988283148075, 'type': 'exam'}, {'score': 95.69493673358075, 'type': 'quiz'}, {'score': 83.03916048182315, 'type': 'homework'}]}, {'_id': 185, 'name': 'Kam Senters', 'scores': [{'score': 49.8822537074033, 'type': 'exam'}, {'score': 45.29515361387067, 'type': 'quiz'}, {'score': 68.88048980292801, 'type': 'homework'}]}, {'_id': 188, 'name': 'Leola Lundin', 'scores': [{'score': 60.314725741828, 'type': 'exam'}, {'score': 41.12327471818652, 'type': 'quiz'}, {'score': 74.8699176311771, 'type': 'homework'}]}, {'_id': 190, 'name': 'Adrien Renda', 'scores': [{'score': 64.16109192679477, 'type': 'exam'}, {'score': 66.93730600935531, 'type': 'quiz'}, {'score': 96.0560340227047, 'type': 'homework'}]}, {'_id': 191, 'name': 'Efrain Claw', 'scores': [{'score': 94.67153825229884, 'type': 'exam'}, {'score': 82.30087932110595, 'type': 'quiz'}, {'score': 75.86075840047938, 'type': 'homework'}]}, {'_id': 193, 'name': 'Mariela Sherer', 'scores': [{'score': 47.67196715489599, 'type': 'exam'}, {'score': 41.55743490493954, 'type': 'quiz'}, {'score': 70.4612811769744, 'type': 'homework'}]}]\n"
     ]
    },
    {
     "data": {
      "text/plain": [
       "<pymongo.results.InsertManyResult at 0x18698618310>"
      ]
     },
     "execution_count": 44,
     "metadata": {},
     "output_type": "execute_result"
    }
   ],
   "source": [
    "passs = []\n",
    "for i in records.aggregate([{\"$match\": {\"$expr\": {\"$gt\": [{\"$min\":\"$scores.score\"}, 40]}}}]):\n",
    "    passs.append(i)\n",
    "print(passs)\n",
    "\n",
    "pass_mark.insert_many(passs)"
   ]
  },
  {
   "cell_type": "code",
   "execution_count": null,
   "id": "1a09c234",
   "metadata": {},
   "outputs": [],
   "source": []
  }
 ],
 "metadata": {
  "kernelspec": {
   "display_name": "Python 3 (ipykernel)",
   "language": "python",
   "name": "python3"
  },
  "language_info": {
   "codemirror_mode": {
    "name": "ipython",
    "version": 3
   },
   "file_extension": ".py",
   "mimetype": "text/x-python",
   "name": "python",
   "nbconvert_exporter": "python",
   "pygments_lexer": "ipython3",
   "version": "3.9.13"
  }
 },
 "nbformat": 4,
 "nbformat_minor": 5
}
